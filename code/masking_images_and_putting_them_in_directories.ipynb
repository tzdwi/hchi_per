{
 "cells": [
  {
   "cell_type": "code",
   "execution_count": 82,
   "metadata": {
    "collapsed": true
   },
   "outputs": [],
   "source": [
    "import numpy as np\n",
    "from matplotlib import pyplot as plt\n",
    "from glob import glob\n",
    "from astropy.io import fits\n",
    "import os\n",
    "from shutil import copyfile\n",
    "\n",
    "%matplotlib inline"
   ]
  },
  {
   "cell_type": "code",
   "execution_count": 33,
   "metadata": {
    "collapsed": true
   },
   "outputs": [],
   "source": [
    "data_dir = '../data/1_17_18/red/'\n",
    "cal_dir = '../data/1_17_18/cal/'\n",
    "\n",
    "all_on = glob(data_dir+'*on*.fits')\n",
    "all_off = glob(data_dir+'*off*.fits')\n",
    "\n",
    "hi_on = glob(data_dir+'red_hi*on*.fits')\n",
    "hi_off = glob(data_dir+'red_hi*off*.fits')\n",
    "\n",
    "med_on = glob(data_dir+'red_med*on*.fits')\n",
    "med_off = glob(data_dir+'red_med*off*.fits')\n",
    "\n",
    "low_on = glob(data_dir+'red_low*on*.fits')\n",
    "low_off = glob(data_dir+'red_low*off*.fits')\n",
    "\n",
    "flat_on = cal_dir+'master_flat_6.fits'\n",
    "flat_off = cal_dir+'master_flat_0.fits'"
   ]
  },
  {
   "cell_type": "code",
   "execution_count": 19,
   "metadata": {},
   "outputs": [],
   "source": [
    "hi_fields = [filename.split('_')[-1].split('.')[0] for filename in hi_on]\n",
    "\n",
    "med_fields = [filename.split('_')[-1].split('.')[0] for filename in med_on]\n",
    "\n",
    "low_fields = [filename.split('_')[-1].split('.')[0] for filename in low_on]"
   ]
  },
  {
   "cell_type": "code",
   "execution_count": 71,
   "metadata": {},
   "outputs": [],
   "source": [
    "flat_on_data = fits.open(flat_on)[0].data\n",
    "flat_off_data = fits.open(flat_off)[0].data\n",
    "\n",
    "on_mask = np.zeros(flat_on_data.shape)\n",
    "off_mask = np.zeros(flat_off_data.shape)\n",
    "\n",
    "mask_low = 0.7\n",
    "\n",
    "on_mask[flat_on_data > mask_low] = 1.0\n",
    "off_mask[flat_off_data > mask_low] = 1.0"
   ]
  },
  {
   "cell_type": "code",
   "execution_count": 69,
   "metadata": {
    "collapsed": true
   },
   "outputs": [],
   "source": [
    "def clean_mask(mask_in,offset):\n",
    "    \"\"\"\n",
    "    If a value in the mask is 0, but its surrounded by 1s, set it to one. Does this in place.\n",
    "    \n",
    "    Parameters\n",
    "    ----------\n",
    "    mask : `~numpy.ndarray`\n",
    "        mask to fix. Must be 2D array.\n",
    "    offset : int\n",
    "        offset to look for ones in\n",
    "    \n",
    "    Returns\n",
    "    -------\n",
    "    mask : `~numpy.ndarray`\n",
    "    \"\"\"\n",
    "    mask = mask_in.copy()\n",
    "    \n",
    "    for i,row in enumerate(mask):\n",
    "        for j,col in enumerate(mask):\n",
    "            if (i>=offset-1)&(j>=offset-1)&(i<=mask.shape[0]-offset-1)&(j<=mask.shape[1]-offset-1):\n",
    "                this_val = mask[i,j]\n",
    "                left_val = mask[i-offset,j]\n",
    "                right_val = mask[i+offset,j]\n",
    "                top_val = off_mask[i,j-offset]\n",
    "                bottom_val = off_mask[i,j+offset]\n",
    "                if (this_val == 0.0)&(left_val == 1.0)&(right_val == 1.0)&(top_val == 1.0)&(bottom_val == 1.0):\n",
    "                    mask[i,j] = 1 \n",
    "                    \n",
    "    return mask"
   ]
  },
  {
   "cell_type": "code",
   "execution_count": 72,
   "metadata": {},
   "outputs": [],
   "source": [
    "on_mask = clean_mask(on_mask,100)\n",
    "off_mask = clean_mask(off_mask,100)"
   ]
  },
  {
   "cell_type": "code",
   "execution_count": 77,
   "metadata": {},
   "outputs": [],
   "source": [
    "for im in all_on:\n",
    "    \n",
    "    im_hdu = fits.open(im)[0]\n",
    "    \n",
    "    im_data = im_hdu.data\n",
    "    im_header = im_hdu.header\n",
    "\n",
    "    masked_data = im_data*on_mask\n",
    "    im_header.set('COMMENT','Data masked with where master flat > {}'.format(mask_low))\n",
    "    \n",
    "    out_hdu = fits.PrimaryHDU(masked_data,im_header)\n",
    "    \n",
    "    out_name = 'trim_'+im.split('/')[-1]\n",
    "    \n",
    "    out_hdu.writeto(out_name,overwrite=True)\n",
    "    \n",
    "for im in all_off:\n",
    "    \n",
    "    im_hdu = fits.open(im)[0]\n",
    "    \n",
    "    im_data = im_hdu.data\n",
    "    im_header = im_hdu.header\n",
    "\n",
    "    masked_data = im_data*off_mask\n",
    "    im_header.set('COMMENT','Data masked with where master flat > {}'.format(mask_low))\n",
    "    \n",
    "    out_hdu = fits.PrimaryHDU(masked_data,im_header)\n",
    "    \n",
    "    out_name = 'trim_'+data_dir+im.split('/')[-1]\n",
    "    \n",
    "    out_hdu.writeto(out_name,overwrite=True)"
   ]
  },
  {
   "cell_type": "code",
   "execution_count": 83,
   "metadata": {
    "collapsed": true
   },
   "outputs": [],
   "source": [
    "for field_num in hi_fields:\n",
    "    os.makedirs('../data/1_17_18/hi_{}'.format(field_num))\n",
    "    copyfile(data_dir+'trim_red_hi_on_{}.0001.fits'.format(field_num),'../data/1_17_18/hi_{}/trim_hi_on_{}.fits'.format(field_num,field_num))\n",
    "    copyfile(data_dir+'trim_red_hi_off_{}.0001.fits'.format(field_num),'../data/1_17_18/hi_{}/trim_hi_off_{}.fits'.format(field_num,field_num))\n",
    "    copyfile(data_dir+'red_hi_on_{}.0001.fits'.format(field_num),'../data/1_17_18/hi_{}/hi_on_{}.fits'.format(field_num,field_num))\n",
    "    copyfile(data_dir+'red_hi_off_{}.0001.fits'.format(field_num),'../data/1_17_18/hi_{}/hi_off_{}.fits'.format(field_num,field_num))"
   ]
  },
  {
   "cell_type": "code",
   "execution_count": 84,
   "metadata": {
    "collapsed": true
   },
   "outputs": [],
   "source": [
    "for field_num in med_fields:\n",
    "    os.makedirs('../data/1_17_18/med_{}'.format(field_num))\n",
    "    copyfile(data_dir+'trim_red_med_on_{}.0001.fits'.format(field_num),'../data/1_17_18/med_{}/trim_med_on_{}.fits'.format(field_num,field_num))\n",
    "    copyfile(data_dir+'trim_red_med_off_{}.0001.fits'.format(field_num),'../data/1_17_18/med_{}/trim_med_off_{}.fits'.format(field_num,field_num))\n",
    "    copyfile(data_dir+'red_med_on_{}.0001.fits'.format(field_num),'../data/1_17_18/med_{}/med_on_{}.fits'.format(field_num,field_num))\n",
    "    copyfile(data_dir+'red_med_off_{}.0001.fits'.format(field_num),'../data/1_17_18/med_{}/med_off_{}.fits'.format(field_num,field_num))"
   ]
  },
  {
   "cell_type": "code",
   "execution_count": 85,
   "metadata": {
    "collapsed": true
   },
   "outputs": [],
   "source": [
    "for field_num in low_fields:\n",
    "    os.makedirs('../data/1_17_18/low_{}'.format(field_num))\n",
    "    copyfile(data_dir+'trim_red_low_on_{}.0001.fits'.format(field_num),'../data/1_17_18/low_{}/trim_low_on_{}.fits'.format(field_num,field_num))\n",
    "    copyfile(data_dir+'trim_red_low_off_{}.0001.fits'.format(field_num),'../data/1_17_18/low_{}/trim_low_off_{}.fits'.format(field_num,field_num))\n",
    "    copyfile(data_dir+'red_low_on_{}.0001.fits'.format(field_num),'../data/1_17_18/low_{}/low_on_{}.fits'.format(field_num,field_num))\n",
    "    copyfile(data_dir+'red_low_off_{}.0001.fits'.format(field_num),'../data/1_17_18/low_{}/low_off_{}.fits'.format(field_num,field_num))"
   ]
  },
  {
   "cell_type": "code",
   "execution_count": 90,
   "metadata": {},
   "outputs": [],
   "source": [
    "stan_on = glob(data_dir+'*red_bd52_on*')\n",
    "stan_off = glob(data_dir+'*red_bd52_off*')\n",
    "\n",
    "for file in stan_on:\n",
    "    file_end = file.split('/')[-1]\n",
    "    copyfile(file,'../data/1_17_18/bd52/'+file_end)\n",
    "for file in stan_on:\n",
    "    file_end = file.split('/')[-1]\n",
    "    copyfile(file,'../data/1_17_18/bd52/'+file_end)"
   ]
  },
  {
   "cell_type": "code",
   "execution_count": null,
   "metadata": {
    "collapsed": true
   },
   "outputs": [],
   "source": []
  }
 ],
 "metadata": {
  "kernelspec": {
   "display_name": "Python [conda root]",
   "language": "python",
   "name": "conda-root-py"
  },
  "language_info": {
   "codemirror_mode": {
    "name": "ipython",
    "version": 3
   },
   "file_extension": ".py",
   "mimetype": "text/x-python",
   "name": "python",
   "nbconvert_exporter": "python",
   "pygments_lexer": "ipython3",
   "version": "3.5.1"
  }
 },
 "nbformat": 4,
 "nbformat_minor": 2
}
