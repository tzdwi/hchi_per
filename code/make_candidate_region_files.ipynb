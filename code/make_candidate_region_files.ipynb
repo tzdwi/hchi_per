{
 "cells": [
  {
   "cell_type": "markdown",
   "metadata": {},
   "source": [
    "# Trevor Dorn-Wallenstein\n",
    "# 1/21/18\n",
    "# Taking big output photometry table, making region files. We're going to check against existing spectroscopy, then anything redder than (say) K0 from Currie et al. 2010 survey. See how many hot stars without spectroscopy and with a significant difference between He II 4686 and the continuum filter there are..."
   ]
  },
  {
   "cell_type": "code",
   "execution_count": 1,
   "metadata": {},
   "outputs": [],
   "source": [
    "import numpy as np\n",
    "from matplotlib import pyplot as plt\n",
    "from astropy.io import fits, ascii\n",
    "from glob import glob\n",
    "from astropy.table import Table\n",
    "\n",
    "%matplotlib inline"
   ]
  },
  {
   "cell_type": "code",
   "execution_count": 2,
   "metadata": {
    "collapsed": true
   },
   "outputs": [],
   "source": [
    "phot_table = Table(ascii.read('../data/1_17_18/photometry/all_photometry.dat'))"
   ]
  },
  {
   "cell_type": "code",
   "execution_count": 4,
   "metadata": {},
   "outputs": [],
   "source": [
    "def region_maker(ra, dec, name=None):\n",
    "    \"\"\"\n",
    "    Given ra, dec in hex, generate a small circular ds9 region string\n",
    "    \n",
    "    Parameters\n",
    "    ----------\n",
    "    ra : str\n",
    "        right ascension in hh:mm:ss\n",
    "    dec : str\n",
    "        declination in dd:mm:ss\n",
    "    name : str, optional\n",
    "        if given, appends text to the region filename \n",
    "    \n",
    "    Returns\n",
    "    -------\n",
    "    region_string : str\n",
    "        string properly formatted to a ds9 region\"\"\"\n",
    "    \n",
    "    circle_string = 'circle({0},{1},5\")'.format(ra,dec)\n",
    "    \n",
    "    if (name is not None) & (type(name)==str):\n",
    "        text_string = ' # text={' + name + '}'\n",
    "        return circle_string + text_string\n",
    "    \n",
    "    return circle_string"
   ]
  },
  {
   "cell_type": "code",
   "execution_count": 5,
   "metadata": {
    "collapsed": true
   },
   "outputs": [],
   "source": [
    "start_string = '# Region file format: DS9 version 4.1 \\nglobal color=cyan dashlist=8 3 width=1 font=\"helvetica 10 normal roman\" select=1 highlite=1 dash=0 fixed=0 edit=1 move=1 delete=1 include=1 source=1 \\nicrs'\n",
    "\n",
    "for star in phot_table:\n",
    "    \n",
    "    start_string += ' \\n'\n",
    "    \n",
    "    start_string += region_maker(star['RA'],star['Dec'])\n",
    "    \n",
    "with open('phot_reg.reg','w') as f:\n",
    "    f.write(start_string)"
   ]
  },
  {
   "cell_type": "code",
   "execution_count": null,
   "metadata": {
    "collapsed": true
   },
   "outputs": [],
   "source": []
  }
 ],
 "metadata": {
  "kernelspec": {
   "display_name": "Python [conda root]",
   "language": "python",
   "name": "conda-root-py"
  },
  "language_info": {
   "codemirror_mode": {
    "name": "ipython",
    "version": 3
   },
   "file_extension": ".py",
   "mimetype": "text/x-python",
   "name": "python",
   "nbconvert_exporter": "python",
   "pygments_lexer": "ipython3",
   "version": "3.5.1"
  }
 },
 "nbformat": 4,
 "nbformat_minor": 2
}
