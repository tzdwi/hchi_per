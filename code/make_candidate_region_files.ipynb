{
 "cells": [
  {
   "cell_type": "markdown",
   "metadata": {},
   "source": [
    "# Trevor Dorn-Wallenstein\n",
    "# 1/21/18\n",
    "# Taking big output photometry table, making region files. We're going to check against existing spectroscopy, then anything redder than (say) K0 from Currie et al. 2010 survey. See how many hot stars without spectroscopy and with a significant difference between He II 4686 and the continuum filter there are..."
   ]
  },
  {
   "cell_type": "code",
   "execution_count": 1,
   "metadata": {
    "collapsed": true
   },
   "outputs": [],
   "source": [
    "import numpy as np\n",
    "from matplotlib import pyplot as plt\n",
    "from astropy.io import fits, ascii\n",
    "from glob import glob\n",
    "from astropy.table import Table\n",
    "\n",
    "%matplotlib inline"
   ]
  },
  {
   "cell_type": "code",
   "execution_count": 6,
   "metadata": {},
   "outputs": [
    {
     "data": {
      "text/html": [
       "&lt;Table length=467&gt;\n",
       "<table id=\"table4368971760\" class=\"table-striped table-bordered table-condensed\">\n",
       "<thead><tr><th>RA</th><th>Dec</th><th>CT</th><th>He-CT</th><th>SigHe-CT</th><th>WN-CT</th><th>SigWN-CT</th><th>WC-WN</th><th>SigWC-WN</th><th>Field</th></tr></thead>\n",
       "<thead><tr><th>str10</th><th>str10</th><th>float64</th><th>float64</th><th>float64</th><th>float64</th><th>float64</th><th>float64</th><th>float64</th><th>str3</th></tr></thead>\n",
       "<tr><td>2:19:00.00</td><td>57:06:07.9</td><td>15.4</td><td>-0.2</td><td>10.2</td><td>-0.2</td><td>10.2</td><td>0.0</td><td>0.0</td><td>H01</td></tr>\n",
       "<tr><td>2:18:56.17</td><td>57:06:08.5</td><td>17.6</td><td>-0.22</td><td>11.0</td><td>-0.22</td><td>11.0</td><td>0.0</td><td>0.0</td><td>H01</td></tr>\n",
       "<tr><td>2:19:00.44</td><td>57:06:09.7</td><td>16.0</td><td>-0.19</td><td>9.6</td><td>-0.19</td><td>9.6</td><td>0.0</td><td>0.0</td><td>H01</td></tr>\n",
       "<tr><td>2:18:46.71</td><td>57:06:11.0</td><td>18.7</td><td>-0.27</td><td>10.2</td><td>-0.27</td><td>10.2</td><td>0.0</td><td>0.0</td><td>H01</td></tr>\n",
       "<tr><td>2:18:46.31</td><td>57:06:19.3</td><td>17.0</td><td>-0.21</td><td>10.7</td><td>-0.21</td><td>10.7</td><td>0.0</td><td>0.0</td><td>H01</td></tr>\n",
       "<tr><td>2:19:02.33</td><td>57:06:21.6</td><td>17.5</td><td>-0.17</td><td>8.4</td><td>-0.17</td><td>8.4</td><td>0.0</td><td>0.0</td><td>H01</td></tr>\n",
       "<tr><td>2:19:07.48</td><td>57:06:24.4</td><td>16.4</td><td>-0.19</td><td>9.4</td><td>-0.19</td><td>9.4</td><td>0.0</td><td>0.0</td><td>H01</td></tr>\n",
       "<tr><td>2:19:00.15</td><td>57:06:27.8</td><td>17.1</td><td>-0.13</td><td>6.7</td><td>-0.13</td><td>6.7</td><td>0.0</td><td>0.0</td><td>H01</td></tr>\n",
       "<tr><td>2:18:48.87</td><td>57:06:38.5</td><td>17.0</td><td>-0.1</td><td>5.0</td><td>-0.1</td><td>5.0</td><td>0.0</td><td>0.0</td><td>H01</td></tr>\n",
       "<tr><td>2:19:09.55</td><td>57:07:57.9</td><td>16.4</td><td>-0.08</td><td>4.0</td><td>-0.08</td><td>4.0</td><td>0.0</td><td>0.0</td><td>H01</td></tr>\n",
       "<tr><td>...</td><td>...</td><td>...</td><td>...</td><td>...</td><td>...</td><td>...</td><td>...</td><td>...</td><td>...</td></tr>\n",
       "<tr><td>2:23:02.36</td><td>57:19:25.3</td><td>17.9</td><td>-0.1</td><td>4.9</td><td>-0.1</td><td>4.9</td><td>0.0</td><td>0.0</td><td>M39</td></tr>\n",
       "<tr><td>2:21:31.96</td><td>57:00:36.1</td><td>17.3</td><td>-0.07</td><td>3.6</td><td>-0.07</td><td>3.6</td><td>0.0</td><td>0.0</td><td>M40</td></tr>\n",
       "<tr><td>2:18:51.08</td><td>57:26:20.4</td><td>15.9</td><td>-0.08</td><td>4.0</td><td>-0.08</td><td>4.0</td><td>0.0</td><td>0.0</td><td>M41</td></tr>\n",
       "<tr><td>2:18:57.04</td><td>57:28:19.6</td><td>19.7</td><td>-0.39</td><td>9.3</td><td>-0.39</td><td>9.3</td><td>0.0</td><td>0.0</td><td>M41</td></tr>\n",
       "<tr><td>2:19:10.16</td><td>57:29:18.2</td><td>19.0</td><td>-0.14</td><td>4.2</td><td>-0.14</td><td>4.2</td><td>0.0</td><td>0.0</td><td>M41</td></tr>\n",
       "<tr><td>2:21:39.80</td><td>56:58:04.3</td><td>19.8</td><td>-0.24</td><td>4.8</td><td>-0.24</td><td>4.8</td><td>0.0</td><td>0.0</td><td>M42</td></tr>\n",
       "<tr><td>2:20:24.05</td><td>57:09:01.6</td><td>18.2</td><td>-0.08</td><td>3.8</td><td>-0.08</td><td>3.8</td><td>0.0</td><td>0.0</td><td>M43</td></tr>\n",
       "<tr><td>2:20:23.91</td><td>57:09:05.6</td><td>14.6</td><td>-0.1</td><td>5.0</td><td>-0.1</td><td>5.0</td><td>0.0</td><td>0.0</td><td>M43</td></tr>\n",
       "<tr><td>2:20:12.92</td><td>57:09:07.2</td><td>16.7</td><td>-0.11</td><td>5.6</td><td>-0.11</td><td>5.6</td><td>0.0</td><td>0.0</td><td>M43</td></tr>\n",
       "<tr><td>2:23:54.90</td><td>57:03:33.6</td><td>17.8</td><td>-0.07</td><td>3.6</td><td>-0.07</td><td>3.6</td><td>0.0</td><td>0.0</td><td>M44</td></tr>\n",
       "</table>"
      ],
      "text/plain": [
       "<Table length=467>\n",
       "    RA        Dec        CT    He-CT  ... SigWN-CT  WC-WN  SigWC-WN Field\n",
       "  str10      str10    float64 float64 ... float64  float64 float64   str3\n",
       "---------- ---------- ------- ------- ... -------- ------- -------- -----\n",
       "2:19:00.00 57:06:07.9    15.4    -0.2 ...     10.2     0.0      0.0   H01\n",
       "2:18:56.17 57:06:08.5    17.6   -0.22 ...     11.0     0.0      0.0   H01\n",
       "2:19:00.44 57:06:09.7    16.0   -0.19 ...      9.6     0.0      0.0   H01\n",
       "2:18:46.71 57:06:11.0    18.7   -0.27 ...     10.2     0.0      0.0   H01\n",
       "2:18:46.31 57:06:19.3    17.0   -0.21 ...     10.7     0.0      0.0   H01\n",
       "2:19:02.33 57:06:21.6    17.5   -0.17 ...      8.4     0.0      0.0   H01\n",
       "2:19:07.48 57:06:24.4    16.4   -0.19 ...      9.4     0.0      0.0   H01\n",
       "2:19:00.15 57:06:27.8    17.1   -0.13 ...      6.7     0.0      0.0   H01\n",
       "2:18:48.87 57:06:38.5    17.0    -0.1 ...      5.0     0.0      0.0   H01\n",
       "2:19:09.55 57:07:57.9    16.4   -0.08 ...      4.0     0.0      0.0   H01\n",
       "       ...        ...     ...     ... ...      ...     ...      ...   ...\n",
       "2:23:02.36 57:19:25.3    17.9    -0.1 ...      4.9     0.0      0.0   M39\n",
       "2:21:31.96 57:00:36.1    17.3   -0.07 ...      3.6     0.0      0.0   M40\n",
       "2:18:51.08 57:26:20.4    15.9   -0.08 ...      4.0     0.0      0.0   M41\n",
       "2:18:57.04 57:28:19.6    19.7   -0.39 ...      9.3     0.0      0.0   M41\n",
       "2:19:10.16 57:29:18.2    19.0   -0.14 ...      4.2     0.0      0.0   M41\n",
       "2:21:39.80 56:58:04.3    19.8   -0.24 ...      4.8     0.0      0.0   M42\n",
       "2:20:24.05 57:09:01.6    18.2   -0.08 ...      3.8     0.0      0.0   M43\n",
       "2:20:23.91 57:09:05.6    14.6    -0.1 ...      5.0     0.0      0.0   M43\n",
       "2:20:12.92 57:09:07.2    16.7   -0.11 ...      5.6     0.0      0.0   M43\n",
       "2:23:54.90 57:03:33.6    17.8   -0.07 ...      3.6     0.0      0.0   M44"
      ]
     },
     "execution_count": 6,
     "metadata": {},
     "output_type": "execute_result"
    }
   ],
   "source": [
    "phot_table = Table(ascii.read('../data/1_17_18/photometry/all_photometry.dat'))\n",
    "phot_table"
   ]
  },
  {
   "cell_type": "code",
   "execution_count": 4,
   "metadata": {
    "collapsed": true
   },
   "outputs": [],
   "source": [
    "def region_maker(ra, dec, name=None):\n",
    "    \"\"\"\n",
    "    Given ra, dec in hex, generate a small circular ds9 region string\n",
    "    \n",
    "    Parameters\n",
    "    ----------\n",
    "    ra : str\n",
    "        right ascension in hh:mm:ss\n",
    "    dec : str\n",
    "        declination in dd:mm:ss\n",
    "    name : str, optional\n",
    "        if given, appends text to the region filename \n",
    "    \n",
    "    Returns\n",
    "    -------\n",
    "    region_string : str\n",
    "        string properly formatted to a ds9 region\"\"\"\n",
    "    \n",
    "    circle_string = 'circle({0},{1},5\")'.format(ra,dec)\n",
    "    \n",
    "    if (name is not None) & (type(name)==str):\n",
    "        text_string = ' # text={' + name + '}'\n",
    "        return circle_string + text_string\n",
    "    \n",
    "    return circle_string"
   ]
  },
  {
   "cell_type": "code",
   "execution_count": 5,
   "metadata": {
    "collapsed": true
   },
   "outputs": [],
   "source": [
    "start_string = '# Region file format: DS9 version 4.1 \\nglobal color=cyan dashlist=8 3 width=1 font=\"helvetica 10 normal roman\" select=1 highlite=1 dash=0 fixed=0 edit=1 move=1 delete=1 include=1 source=1 \\nicrs'\n",
    "\n",
    "for star in phot_table:\n",
    "    \n",
    "    start_string += ' \\n'\n",
    "    \n",
    "    start_string += region_maker(star['RA'],star['Dec'])\n",
    "    \n",
    "with open('phot_reg.reg','w') as f:\n",
    "    f.write(start_string)"
   ]
  },
  {
   "cell_type": "code",
   "execution_count": null,
   "metadata": {
    "collapsed": true
   },
   "outputs": [],
   "source": []
  }
 ],
 "metadata": {
  "kernelspec": {
   "display_name": "Python [conda root]",
   "language": "python",
   "name": "conda-root-py"
  },
  "language_info": {
   "codemirror_mode": {
    "name": "ipython",
    "version": 3
   },
   "file_extension": ".py",
   "mimetype": "text/x-python",
   "name": "python",
   "nbconvert_exporter": "python",
   "pygments_lexer": "ipython3",
   "version": "3.5.1"
  }
 },
 "nbformat": 4,
 "nbformat_minor": 2
}
