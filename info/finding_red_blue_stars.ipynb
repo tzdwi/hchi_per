{
 "cells": [
  {
   "cell_type": "markdown",
   "metadata": {},
   "source": [
    "# Trevor Dorn-Wallenstein\n",
    "# November 2017?\n",
    "# Separating out the OB stars as candidate WRs. Also separating out the red stars to cross-reference our photometry with! Also demarking which stars already have spectra!\n",
    "# Photometry from Currie et al. 2010"
   ]
  },
  {
   "cell_type": "code",
   "execution_count": 1,
   "metadata": {
    "collapsed": true
   },
   "outputs": [],
   "source": [
    "import numpy as np, astropy.io.fits as fits, matplotlib.pyplot as plt\n",
    "from astropy.table import Table\n",
    "%matplotlib inline"
   ]
  },
  {
   "cell_type": "code",
   "execution_count": 2,
   "metadata": {
    "collapsed": true
   },
   "outputs": [],
   "source": [
    "member_hdu = fits.open('cluster_members.fits')\n",
    "spectr_hdu = fits.open('spectro_targets.fits')"
   ]
  },
  {
   "cell_type": "code",
   "execution_count": 5,
   "metadata": {},
   "outputs": [
    {
     "name": "stderr",
     "output_type": "stream",
     "text": [
      "/Users/carina/anaconda/lib/python3.5/site-packages/astropy/table/column.py:928: RuntimeWarning: invalid value encountered in less_equal\n",
      "  return getattr(self.data, oper)(other)\n",
      "/Users/carina/anaconda/lib/python3.5/site-packages/astropy/table/column.py:928: RuntimeWarning: invalid value encountered in less\n",
      "  return getattr(self.data, oper)(other)\n",
      "/Users/carina/anaconda/lib/python3.5/site-packages/astropy/table/column.py:928: RuntimeWarning: invalid value encountered in greater_equal\n",
      "  return getattr(self.data, oper)(other)\n"
     ]
    }
   ],
   "source": [
    "member_table = Table(member_hdu[1].data)\n",
    "spectr_table = Table(spectr_hdu[1].data)\n",
    "OB_table = member_table[member_table['SpT'] <= 20]\n",
    "na_table = member_table[np.isnan(member_table['SpT'])]\n",
    "KM_table = member_table[(member_table['SpT']<75)&(member_table['SpT']>=50)]"
   ]
  },
  {
   "cell_type": "code",
   "execution_count": 9,
   "metadata": {
    "collapsed": true
   },
   "outputs": [],
   "source": [
    "def region_maker(ra, dec, name=None):\n",
    "    \"\"\"\n",
    "    Given ra, dec in degrees, generate a small circular ds9 region string\n",
    "    \n",
    "    Parameters\n",
    "    ----------\n",
    "    ra : float\n",
    "        right ascension in decimal degrees\n",
    "    dec : float\n",
    "        declination in decimal degrees\n",
    "    name : str, optional\n",
    "        if given, appends text to the region filename \n",
    "    \n",
    "    Returns\n",
    "    -------\n",
    "    region_string : str\n",
    "        string properly formatted to a ds9 region\"\"\"\n",
    "    \n",
    "    circle_string = 'circle({0:.7f},{1:.7f},5\")'.format(ra,dec)\n",
    "    \n",
    "    if (name is not None) & (type(name)==str):\n",
    "        text_string = ' # text={' + name + '}'\n",
    "        return circle_string + text_string\n",
    "    \n",
    "    return circle_string"
   ]
  },
  {
   "cell_type": "code",
   "execution_count": 11,
   "metadata": {
    "collapsed": true
   },
   "outputs": [],
   "source": [
    "start_string = '# Region file format: DS9 version 4.1 \\nglobal color=green dashlist=8 3 width=1 font=\"helvetica 10 normal roman\" select=1 highlite=1 dash=0 fixed=0 edit=1 move=1 delete=1 include=1 source=1 \\nicrs'\n",
    "\n",
    "for star in OB_table:\n",
    "    \n",
    "    start_string += ' \\n'\n",
    "    \n",
    "    start_string += region_maker(star['RAJ2000'],star['DEJ2000'])\n",
    "    \n",
    "with open('OB_reg.reg','w') as f:\n",
    "    f.write(start_string)"
   ]
  },
  {
   "cell_type": "code",
   "execution_count": 12,
   "metadata": {
    "collapsed": true
   },
   "outputs": [],
   "source": [
    "start_string = '# Region file format: DS9 version 4.1 \\nglobal color=red dashlist=8 3 width=1 font=\"helvetica 10 normal roman\" select=1 highlite=1 dash=0 fixed=0 edit=1 move=1 delete=1 include=1 source=1 \\nicrs'\n",
    "\n",
    "for star in KM_table:\n",
    "    \n",
    "    start_string += ' \\n'\n",
    "    \n",
    "    start_string += region_maker(star['RAJ2000'],star['DEJ2000'])\n",
    "    \n",
    "with open('KM_reg.reg','w') as f:\n",
    "    f.write(start_string)"
   ]
  },
  {
   "cell_type": "code",
   "execution_count": 13,
   "metadata": {
    "collapsed": true
   },
   "outputs": [],
   "source": [
    "start_string = '# Region file format: DS9 version 4.1 \\nglobal color=white dashlist=8 3 width=1 font=\"helvetica 10 normal roman\" select=1 highlite=1 dash=0 fixed=0 edit=1 move=1 delete=1 include=1 source=1 \\nicrs'\n",
    "\n",
    "for star in spectr_table:\n",
    "    \n",
    "    start_string += ' \\n'\n",
    "    \n",
    "    start_string += region_maker(star['RAJ2000'],star['DEJ2000'])\n",
    "    \n",
    "with open('spec_reg.reg','w') as f:\n",
    "    f.write(start_string)"
   ]
  },
  {
   "cell_type": "code",
   "execution_count": null,
   "metadata": {
    "collapsed": true
   },
   "outputs": [],
   "source": []
  }
 ],
 "metadata": {
  "kernelspec": {
   "display_name": "Python [conda root]",
   "language": "python",
   "name": "conda-root-py"
  },
  "language_info": {
   "codemirror_mode": {
    "name": "ipython",
    "version": 3
   },
   "file_extension": ".py",
   "mimetype": "text/x-python",
   "name": "python",
   "nbconvert_exporter": "python",
   "pygments_lexer": "ipython3",
   "version": "3.5.1"
  }
 },
 "nbformat": 4,
 "nbformat_minor": 2
}
