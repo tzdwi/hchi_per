{
 "cells": [
  {
   "cell_type": "markdown",
   "metadata": {},
   "source": [
    "# Author: Trevor Dorn-Wallenstein\n",
    "# 11/15/17\n",
    "# Let's design survey fields of $h+\\chi$ Persei that cover a maximum number of a given set of stars."
   ]
  },
  {
   "cell_type": "code",
   "execution_count": 1,
   "metadata": {
    "collapsed": true
   },
   "outputs": [],
   "source": [
    "import numpy as np, astropy.io.fits as fits, matplotlib.pyplot as plt\n",
    "from astropy.table import Table\n",
    "from scipy.optimize import minimize\n",
    "import emcee as mc\n",
    "from survey_tools import *\n",
    "%matplotlib inline"
   ]
  },
  {
   "cell_type": "code",
   "execution_count": 2,
   "metadata": {},
   "outputs": [
    {
     "name": "stderr",
     "output_type": "stream",
     "text": [
      "/Users/carina/anaconda/lib/python3.5/site-packages/astropy/table/column.py:928: RuntimeWarning: invalid value encountered in less_equal\n",
      "  return getattr(self.data, oper)(other)\n"
     ]
    }
   ],
   "source": [
    "member_hdu = fits.open('cluster_members.fits')\n",
    "member_table = Table(member_hdu[1].data)\n",
    "OB_table = member_table[member_table['SpT'] <= 20]"
   ]
  },
  {
   "cell_type": "code",
   "execution_count": 3,
   "metadata": {
    "collapsed": true
   },
   "outputs": [],
   "source": [
    "OB_list = [Star(ra,dec) for ra,dec in zip(OB_table['RAJ2000'],OB_table['DEJ2000'])]"
   ]
  },
  {
   "cell_type": "code",
   "execution_count": 6,
   "metadata": {
    "collapsed": true
   },
   "outputs": [],
   "source": [
    "#This is a kinda crappy method. Keeping it in the notebook for now.\n",
    "def design_survey(star_list, N_fields, N_start = None, overlap_bonus = 0.1):\n",
    "    \"\"\"\n",
    "    Designs a survey by progressively eliminating the field that contributes to the survey\n",
    "    value the least\n",
    "    \n",
    "    Parameters\n",
    "    ----------\n",
    "    star_list : list\n",
    "        list of Star objects\n",
    "    N_fields : int\n",
    "        The target number of fields in the survey\n",
    "    N_start : int\n",
    "        If given, starts the survey with N_start random fields chosen from star_list\n",
    "    overlap_bonus : float\n",
    "        bonus you want to give to stars that appear in multiple fields\n",
    "        \n",
    "    Returns\n",
    "    -------\n",
    "    field_list : list\n",
    "        list of Field objects that remain.\n",
    "    \"\"\"\n",
    "    \n",
    "    #Initialize fields from star list\n",
    "    if N_start is not None:\n",
    "        field_list = np.array([Field.from_star_list(star_list=star_list,size=3.0) for j in range(N_start)])\n",
    "    else:\n",
    "        field_list = np.array([Field.from_star_list(star_list=star_list,size=3.0,random=False,i=j) for j in range(len(star_list))])\n",
    "    \n",
    "    while len(field_list) != N_fields:\n",
    "        \n",
    "        scores = []\n",
    "        \n",
    "        for i,field in enumerate(field_list):\n",
    "            \n",
    "            #Get rid of one field\n",
    "            trial_list = field_list[field_list != field]\n",
    "            #Score the survey\n",
    "            this_score = score_survey(star_list,trial_list,overlap_bonus)\n",
    "            scores.append(this_score)\n",
    "            \n",
    "        field_list = np.delete(field_list,np.argmax(scores))\n",
    "        print(len(field_list))\n",
    "        \n",
    "    return field_list"
   ]
  },
  {
   "cell_type": "code",
   "execution_count": 4,
   "metadata": {},
   "outputs": [],
   "source": [
    "#loading in the chain from an emcee run!\n",
    "samples = np.loadtxt('outchain.txt.gz')"
   ]
  },
  {
   "cell_type": "code",
   "execution_count": 11,
   "metadata": {},
   "outputs": [
    {
     "data": {
      "text/plain": [
       "[<matplotlib.lines.Line2D at 0x133362358>]"
      ]
     },
     "execution_count": 11,
     "metadata": {},
     "output_type": "execute_result"
    },
    {
     "data": {
      "image/png": "[encoded data removed]",
      "text/plain": [
       "<matplotlib.figure.Figure at 0x12ee7b080>"
      ]
     },
     "metadata": {},
     "output_type": "display_data"
    }
   ],
   "source": [
    "#Well this shit didn't work\n",
    "plt.plot(samples[:,10])"
   ]
  },
  {
   "cell_type": "code",
   "execution_count": 16,
   "metadata": {},
   "outputs": [],
   "source": [
    "#Just gonna use initialize_fields to get somewhere to start and do it by hand.\n",
    "scores = []\n",
    "surveys = []\n",
    "for i in range(100):\n",
    "    foo = initialize_fields(N_fields=30,star_list=OB_list,size=3.0)\n",
    "    score = score_survey(field_list=foo,overlap_bonus=0.01,star_list=OB_list)\n",
    "    scores.append(score)\n",
    "    surveys.append(foo)\n",
    "    \n",
    "the_survey = surveys[np.argmax(scores)]"
   ]
  },
  {
   "cell_type": "code",
   "execution_count": 17,
   "metadata": {},
   "outputs": [
    {
     "data": {
      "text/plain": [
       "'# Region file format: DS9 version 4.1 \\nglobal color=green dashlist=8 3 width=1 font=\"helvetica 10 normal roman\" select=1 highlite=1 dash=0 fixed=0 edit=1 move=1 delete=1 include=1 source=1 \\nicrs \\nbox(35.4511,57.22789999999999,3.0\\',3.0\\',0) \\nbox(34.7063,57.097199999999994,3.0\\',3.0\\',0) \\nbox(35.1949,56.73919999999999,3.0\\',3.0\\',0) \\nbox(34.5667,57.06389999999999,3.0\\',3.0\\',0) \\nbox(34.7322,57.15189999999999,3.0\\',3.0\\',0) \\nbox(35.267399999999995,56.969199999999994,3.0\\',3.0\\',0) \\nbox(34.314899999999994,56.897999999999996,3.0\\',3.0\\',0) \\nbox(35.66139999999999,57.193999999999996,3.0\\',3.0\\',0) \\nbox(35.77179999999999,57.311499999999995,3.0\\',3.0\\',0) \\nbox(35.488499999999995,57.00959999999999,3.0\\',3.0\\',0) \\nbox(34.90259999999999,57.25869999999999,3.0\\',3.0\\',0) \\nbox(34.4725,57.461299999999994,3.0\\',3.0\\',0) \\nbox(34.442899999999995,57.40449999999999,3.0\\',3.0\\',0) \\nbox(35.906499999999994,57.346799999999995,3.0\\',3.0\\',0) \\nbox(34.6089,57.542399999999994,3.0\\',3.0\\',0) \\nbox(35.036199999999994,56.85759999999999,3.0\\',3.0\\',0) \\nbox(34.7497,57.57599999999999,3.0\\',3.0\\',0) \\nbox(35.132099999999994,56.93639999999999,3.0\\',3.0\\',0) \\nbox(35.805299999999995,56.770599999999995,3.0\\',3.0\\',0) \\nbox(34.809099999999994,56.820299999999996,3.0\\',3.0\\',0) \\nbox(35.595299999999995,57.50319999999999,3.0\\',3.0\\',0) \\nbox(34.7452,57.14739999999999,3.0\\',3.0\\',0) \\nbox(35.5821,57.04149999999999,3.0\\',3.0\\',0) \\nbox(35.4115,57.03719999999999,3.0\\',3.0\\',0) \\nbox(35.0851,56.891999999999996,3.0\\',3.0\\',0) \\nbox(34.639599999999994,57.01899999999999,3.0\\',3.0\\',0) \\nbox(35.870799999999996,57.003699999999995,3.0\\',3.0\\',0) \\nbox(34.4349,57.465999999999994,3.0\\',3.0\\',0) \\nbox(34.687799999999996,57.12189999999999,3.0\\',3.0\\',0) \\nbox(35.326699999999995,57.157399999999996,3.0\\',3.0\\',0)'"
      ]
     },
     "execution_count": 17,
     "metadata": {},
     "output_type": "execute_result"
    }
   ],
   "source": [
    "start_string = '# Region file format: DS9 version 4.1 \\nglobal color=green dashlist=8 3 width=1 font=\"helvetica 10 normal roman\" select=1 highlite=1 dash=0 fixed=0 edit=1 move=1 delete=1 include=1 source=1 \\nicrs'\n",
    "\n",
    "for field in the_survey:\n",
    "    \n",
    "    reg_str = field.to_region_string()\n",
    "    \n",
    "    start_string += ' \\n'\n",
    "    \n",
    "    start_string += reg_str\n",
    "\n",
    "with open('field_reg.reg','w') as f:\n",
    "    f.write(start_string)\n",
    "\n",
    "start_string"
   ]
  },
  {
   "cell_type": "code",
   "execution_count": null,
   "metadata": {
    "collapsed": true
   },
   "outputs": [],
   "source": [
    "the_survey"
   ]
  },
  {
   "cell_type": "code",
   "execution_count": null,
   "metadata": {
    "collapsed": true
   },
   "outputs": [],
   "source": []
  }
 ],
 "metadata": {
  "kernelspec": {
   "display_name": "Python [conda root]",
   "language": "python",
   "name": "conda-root-py"
  },
  "language_info": {
   "codemirror_mode": {
    "name": "ipython",
    "version": 3
   },
   "file_extension": ".py",
   "mimetype": "text/x-python",
   "name": "python",
   "nbconvert_exporter": "python",
   "pygments_lexer": "ipython3",
   "version": "3.5.1"
  }
 },
 "nbformat": 4,
 "nbformat_minor": 2
}
