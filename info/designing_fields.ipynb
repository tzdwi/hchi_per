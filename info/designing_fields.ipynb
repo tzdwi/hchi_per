{
 "cells": [
  {
   "cell_type": "markdown",
   "metadata": {},
   "source": [
    "# Author: Trevor Dorn-Wallenstein\n",
    "# 11/15/17\n",
    "# Let's design survey fields of $h+\\chi$ Persei that cover a maximum number of a given set of stars."
   ]
  },
  {
   "cell_type": "code",
   "execution_count": 13,
   "metadata": {
    "collapsed": true
   },
   "outputs": [],
   "source": [
    "import numpy as np, astropy.io.fits as fits, matplotlib.pyplot as plt\n",
    "from astropy.table import Table\n",
    "from scipy.optimize import minimize\n",
    "import emcee as mc\n",
    "from survey_tools import *\n",
    "%matplotlib inline"
   ]
  },
  {
   "cell_type": "code",
   "execution_count": 14,
   "metadata": {},
   "outputs": [
    {
     "name": "stderr",
     "output_type": "stream",
     "text": [
      "/Users/carina/anaconda/lib/python3.5/site-packages/astropy/table/column.py:928: RuntimeWarning: invalid value encountered in less_equal\n",
      "  return getattr(self.data, oper)(other)\n"
     ]
    }
   ],
   "source": [
    "member_hdu = fits.open('cluster_members.fits')\n",
    "member_table = Table(member_hdu[1].data)\n",
    "OB_table = member_table[member_table['SpT'] <= 20]"
   ]
  },
  {
   "cell_type": "code",
   "execution_count": 15,
   "metadata": {
    "collapsed": true
   },
   "outputs": [],
   "source": [
    "OB_list = [Star(ra,dec) for ra,dec in zip(OB_table['RAJ2000'],OB_table['DEJ2000'])]"
   ]
  },
  {
   "cell_type": "markdown",
   "metadata": {
    "collapsed": true
   },
   "source": [
    "### Let's try something different. From a list of stars, create a grid of fields that tiles the entire thing. Then list the fields in order of number of stars they cover. Delete the ones that have zero stars. That's the priority list."
   ]
  },
  {
   "cell_type": "code",
   "execution_count": 16,
   "metadata": {
    "collapsed": true
   },
   "outputs": [],
   "source": [
    "def tile_stars(star_list, field_size, overlap_fraction=0.05, margin_fraction=0.1):\n",
    "    \"\"\"\n",
    "    Creates a survey by tiling a field, then deletes the fields that contain no stars\n",
    "    \n",
    "    Parameters\n",
    "    ----------\n",
    "    star_list : list\n",
    "        List of `Star` objects\n",
    "    field_size : float\n",
    "        Size of camera in arcminutes\n",
    "    overlap_fraction : float\n",
    "        Fraction of the size of the camera to overlap the fields for handy image alignment\n",
    "    margin_fraction : float\n",
    "        Fraction of the camera to nudge over so that the first image has a margin\n",
    "        \n",
    "    Returns\n",
    "    -------\n",
    "    field_list : list\n",
    "        List of `Field` objects\n",
    "    \"\"\"\n",
    "    \n",
    "    star_coords = np.array([[star.ra,star.dec] for star in star_list])\n",
    "    \n",
    "    #Figure out the furthest northeast point to cover\n",
    "    max_ra = np.max(star_coords[:,0])\n",
    "    min_ra = np.min(star_coords[:,0])\n",
    "    max_dec = np.max(star_coords[:,1])\n",
    "    min_dec = np.min(star_coords[:,1])\n",
    "    \n",
    "    #Add the margins to it\n",
    "    top_edge = max_dec + (margin_fraction*field_size/60.0)\n",
    "    #subtract off half the field size\n",
    "    top_center = top_edge - ((field_size/60.0) / 2.0)\n",
    "    \n",
    "    #Same but include spherical geometry, ugh\n",
    "    left_edge = max_ra + (margin_fraction*field_size/60.0)/np.cos(top_center * np.pi / 180)\n",
    "    left_center = left_edge - ((field_size/60.0) / 2.0)/np.cos(top_center * np.pi / 180)\n",
    "    \n",
    "    ras = [left_center]\n",
    "    decs = [top_center]\n",
    "    \n",
    "    current_ra = left_center\n",
    "    current_dec = top_center\n",
    "    \n",
    "    while current_ra >= (min_ra - (margin_fraction*field_size/60.0)/np.cos(top_center * np.pi / 180)):\n",
    "        \n",
    "        current_ra -= (1.0 - overlap_fraction)*field_size/np.cos(top_center * np.pi / 180)/60.0\n",
    "        ras.append(current_ra)\n",
    "        \n",
    "    while current_dec >= (min_dec - (margin_fraction*field_size/60.0)):\n",
    "        \n",
    "        current_dec -= (1.0 - overlap_fraction)*field_size/60.0\n",
    "        decs.append(current_dec)\n",
    "        \n",
    "    temp_list = [Field(ra,dec,field_size) for ra in ras for dec in decs]\n",
    "    field_list = []\n",
    "    \n",
    "    for field in temp_list:\n",
    "        num_stars = field.count_stars_in_field(star_list=star_list)\n",
    "        if num_stars != 0:\n",
    "            field_list.append(field)\n",
    "    \n",
    "    return field_list"
   ]
  },
  {
   "cell_type": "code",
   "execution_count": 17,
   "metadata": {
    "collapsed": true
   },
   "outputs": [],
   "source": [
    "foo = tile_stars(OB_list, 3.0)"
   ]
  },
  {
   "cell_type": "code",
   "execution_count": 18,
   "metadata": {
    "collapsed": true
   },
   "outputs": [],
   "source": [
    "low_string = '# Region file format: DS9 version 4.1 \\nglobal color=yellow dashlist=8 3 width=1 font=\"helvetica 10 normal roman\" select=1 highlite=1 dash=0 fixed=0 edit=1 move=1 delete=1 include=1 source=1 \\nicrs'\n",
    "med_string = '# Region file format: DS9 version 4.1 \\nglobal color=cyan dashlist=8 3 width=1 font=\"helvetica 10 normal roman\" select=1 highlite=1 dash=0 fixed=0 edit=1 move=1 delete=1 include=1 source=1 \\nicrs'\n",
    "hi_string = '# Region file format: DS9 version 4.1 \\nglobal color=magenta dashlist=8 3 width=1 font=\"helvetica 10 normal roman\" select=1 highlite=1 dash=0 fixed=0 edit=1 move=1 delete=1 include=1 source=1 \\nicrs'\n",
    "\n",
    "for field in foo:\n",
    "    \n",
    "    reg_str = field.to_region_string()\n",
    "    n_in_field = field.count_stars_in_field(OB_list)\n",
    "    \n",
    "    if n_in_field >= 7:\n",
    "        \n",
    "        hi_string += ' \\n'\n",
    "\n",
    "        hi_string += reg_str\n",
    "        \n",
    "    elif n_in_field >= 3:\n",
    "        \n",
    "        med_string += ' \\n'\n",
    "\n",
    "        med_string += reg_str\n",
    "    \n",
    "    else:\n",
    "        \n",
    "        low_string += ' \\n'\n",
    "\n",
    "        low_string += reg_str\n",
    "\n",
    "with open('hi_reg.reg','w') as f:\n",
    "    f.write(hi_string)\n",
    "with open('med_reg.reg','w') as f:\n",
    "    f.write(med_string)\n",
    "with open('low_reg.reg','w') as f:\n",
    "    f.write(low_string)"
   ]
  },
  {
   "cell_type": "code",
   "execution_count": 19,
   "metadata": {},
   "outputs": [
    {
     "data": {
      "text/plain": [
       "'# Region file format: DS9 version 4.1 \\nglobal color=magenta dashlist=8 3 width=1 font=\"helvetica 10 normal roman\" select=1 highlite=1 dash=0 fixed=0 edit=1 move=1 delete=1 include=1 source=1 \\nicrs \\nbox(35.714055875658005,57.271,3.0\\',3.0\\',0) \\nbox(35.714055875658005,57.176,3.0\\',3.0\\',0) \\nbox(35.714055875658005,57.081,3.0\\',3.0\\',0) \\nbox(35.625514942771126,57.176,3.0\\',3.0\\',0) \\nbox(35.53697400988425,57.271,3.0\\',3.0\\',0) \\nbox(35.53697400988425,57.2235,3.0\\',3.0\\',0) \\nbox(35.53697400988425,57.176,3.0\\',3.0\\',0) \\nbox(35.53697400988425,57.1285,3.0\\',3.0\\',0) \\nbox(35.53697400988425,57.081,3.0\\',3.0\\',0) \\nbox(35.44843307699737,57.2235,3.0\\',3.0\\',0) \\nbox(35.44843307699737,57.176,3.0\\',3.0\\',0) \\nbox(35.44843307699737,57.1285,3.0\\',3.0\\',0) \\nbox(35.44843307699737,57.081,3.0\\',3.0\\',0) \\nbox(35.35989214411049,57.2235,3.0\\',3.0\\',0) \\nbox(35.35989214411049,57.176,3.0\\',3.0\\',0) \\nbox(35.35989214411049,57.1285,3.0\\',3.0\\',0) \\nbox(35.35989214411049,57.081,3.0\\',3.0\\',0) \\nbox(35.27135121122361,57.1285,3.0\\',3.0\\',0) \\nbox(35.09426934544985,57.1285,3.0\\',3.0\\',0) \\nbox(35.00572841256297,57.176,3.0\\',3.0\\',0) \\nbox(34.917187479676095,57.176,3.0\\',3.0\\',0) \\nbox(34.917187479676095,57.1285,3.0\\',3.0\\',0) \\nbox(34.917187479676095,57.081,3.0\\',3.0\\',0) \\nbox(34.828646546789216,57.176,3.0\\',3.0\\',0) \\nbox(34.828646546789216,57.1285,3.0\\',3.0\\',0) \\nbox(34.828646546789216,57.081,3.0\\',3.0\\',0) \\nbox(34.828646546789216,57.033500000000004,3.0\\',3.0\\',0) \\nbox(34.74010561390234,57.2235,3.0\\',3.0\\',0) \\nbox(34.74010561390234,57.176,3.0\\',3.0\\',0) \\nbox(34.74010561390234,57.1285,3.0\\',3.0\\',0) \\nbox(34.74010561390234,57.081,3.0\\',3.0\\',0) \\nbox(34.74010561390234,57.033500000000004,3.0\\',3.0\\',0) \\nbox(34.65156468101546,57.271,3.0\\',3.0\\',0) \\nbox(34.65156468101546,57.2235,3.0\\',3.0\\',0) \\nbox(34.65156468101546,57.176,3.0\\',3.0\\',0) \\nbox(34.65156468101546,57.1285,3.0\\',3.0\\',0) \\nbox(34.65156468101546,57.081,3.0\\',3.0\\',0) \\nbox(34.56302374812858,57.2235,3.0\\',3.0\\',0) \\nbox(34.56302374812858,57.176,3.0\\',3.0\\',0) \\nbox(34.56302374812858,57.1285,3.0\\',3.0\\',0) \\nbox(34.56302374812858,57.081,3.0\\',3.0\\',0) \\nbox(34.4744828152417,57.081,3.0\\',3.0\\',0)'"
      ]
     },
     "execution_count": 19,
     "metadata": {},
     "output_type": "execute_result"
    }
   ],
   "source": [
    "hi_string"
   ]
  },
  {
   "cell_type": "code",
   "execution_count": null,
   "metadata": {
    "collapsed": true
   },
   "outputs": [],
   "source": []
  }
 ],
 "metadata": {
  "kernelspec": {
   "display_name": "Python [conda root]",
   "language": "python",
   "name": "conda-root-py"
  },
  "language_info": {
   "codemirror_mode": {
    "name": "ipython",
    "version": 3
   },
   "file_extension": ".py",
   "mimetype": "text/x-python",
   "name": "python",
   "nbconvert_exporter": "python",
   "pygments_lexer": "ipython3",
   "version": "3.5.1"
  }
 },
 "nbformat": 4,
 "nbformat_minor": 2
}
