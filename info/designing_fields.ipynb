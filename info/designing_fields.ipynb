{
 "cells": [
  {
   "cell_type": "markdown",
   "metadata": {},
   "source": [
    "# Author: Trevor Dorn-Wallenstein\n",
    "# 11/15/17\n",
    "# Let's design survey fields of $h+\\chi$ Persei that cover a maximum number of a given set of stars."
   ]
  },
  {
   "cell_type": "code",
   "execution_count": 1,
   "metadata": {
    "collapsed": true
   },
   "outputs": [],
   "source": [
    "import numpy as np, astropy.io.fits as fits, matplotlib.pyplot as plt\n",
    "from astropy.table import Table\n",
    "from scipy.optimize import minimize\n",
    "import emcee as mc\n",
    "from survey_tools import *\n",
    "%matplotlib inline"
   ]
  },
  {
   "cell_type": "code",
   "execution_count": 2,
   "metadata": {},
   "outputs": [
    {
     "name": "stderr",
     "output_type": "stream",
     "text": [
      "/Users/carina/anaconda/lib/python3.5/site-packages/astropy/table/column.py:928: RuntimeWarning: invalid value encountered in less_equal\n",
      "  return getattr(self.data, oper)(other)\n"
     ]
    }
   ],
   "source": [
    "member_hdu = fits.open('cluster_members.fits')\n",
    "member_table = Table(member_hdu[1].data)\n",
    "OB_table = member_table[member_table['SpT'] <= 20]"
   ]
  },
  {
   "cell_type": "code",
   "execution_count": 3,
   "metadata": {
    "collapsed": true
   },
   "outputs": [],
   "source": [
    "OB_list = [Star(ra,dec) for ra,dec in zip(OB_table['RAJ2000'],OB_table['DEJ2000'])]"
   ]
  },
  {
   "cell_type": "code",
   "execution_count": 4,
   "metadata": {
    "collapsed": true
   },
   "outputs": [],
   "source": [
    "def make_survey_and_score(theta,args):\n",
    "    \"\"\"\n",
    "    Wrapper for score_survey. Makes a new field_list, then scores the stars in star_list.\n",
    "    \n",
    "    Parameter\n",
    "    ---------\n",
    "    theta : list\n",
    "        Should be a list of length N_fieldx2, with first N_field entries being RAs, next \n",
    "        N_field entries being Decs.\n",
    "    args : tuple\n",
    "        First entry should be a list of star objects in your survey. Second entry\n",
    "        should be the size of the field of view of the camera in arcminutes. Third entry \n",
    "        should be the overlap_bonus\n",
    "        \n",
    "    Returns\n",
    "    -------\n",
    "    survey_score : float\n",
    "        Score of this particular survey\n",
    "    \"\"\"\n",
    "    \n",
    "    try:\n",
    "        assert len(theta) % 2 == 0\n",
    "    except AssertionError as e:\n",
    "        raise AssertionError(\"Length of theta should be N_fields x 2!\")\n",
    "    \n",
    "    n_fields = len(theta) // 2\n",
    "    ras = theta[:n_fields]\n",
    "    decs = theta[n_fields:]\n",
    "    \n",
    "    star_list = args[0]\n",
    "    field_size = args[1]\n",
    "    overlap_bonus = args[2]\n",
    "    \n",
    "    field_list = [Field(ra,dec,field_size) for ra,dec in zip(ras,decs)]\n",
    "    \n",
    "    return score_survey(star_list,field_list,overlap_bonus)"
   ]
  },
  {
   "cell_type": "code",
   "execution_count": 5,
   "metadata": {
    "collapsed": true
   },
   "outputs": [],
   "source": [
    "def f_min(theta,args):\n",
    "    \n",
    "    return -1*make_survey_and_score(theta,args)"
   ]
  },
  {
   "cell_type": "code",
   "execution_count": 6,
   "metadata": {
    "collapsed": true
   },
   "outputs": [],
   "source": [
    "def design_survey(star_list, N_fields, N_start = None, overlap_bonus = 0.1):\n",
    "    \"\"\"\n",
    "    Designs a survey by progressively eliminating the field that contributes to the survey\n",
    "    value the least\n",
    "    \n",
    "    Parameters\n",
    "    ----------\n",
    "    star_list : list\n",
    "        list of Star objects\n",
    "    N_fields : int\n",
    "        The target number of fields in the survey\n",
    "    N_start : int\n",
    "        If given, starts the survey with N_start random fields chosen from star_list\n",
    "    overlap_bonus : float\n",
    "        bonus you want to give to stars that appear in multiple fields\n",
    "        \n",
    "    Returns\n",
    "    -------\n",
    "    field_list : list\n",
    "        list of Field objects that remain.\n",
    "    \"\"\"\n",
    "    \n",
    "    #Initialize fields from star list\n",
    "    if N_start is not None:\n",
    "        field_list = np.array([Field.from_star_list(star_list=star_list,size=3.0) for j in range(N_start)])\n",
    "    else:\n",
    "        field_list = np.array([Field.from_star_list(star_list=star_list,size=3.0,random=False,i=j) for j in range(len(star_list))])\n",
    "    \n",
    "    while len(field_list) != N_fields:\n",
    "        \n",
    "        scores = []\n",
    "        \n",
    "        for i,field in enumerate(field_list):\n",
    "            \n",
    "            #Get rid of one field\n",
    "            trial_list = field_list[field_list != field]\n",
    "            #Score the survey\n",
    "            this_score = score_survey(star_list,trial_list,overlap_bonus)\n",
    "            scores.append(this_score)\n",
    "            \n",
    "        field_list = np.delete(field_list,np.argmax(scores))\n",
    "        print(len(field_list))\n",
    "        \n",
    "    return field_list"
   ]
  },
  {
   "cell_type": "code",
   "execution_count": 7,
   "metadata": {},
   "outputs": [],
   "source": [
    "initial_list = initialize_fields(30,3.0,OB_list)"
   ]
  },
  {
   "cell_type": "code",
   "execution_count": 18,
   "metadata": {},
   "outputs": [],
   "source": [
    "def lnprob(theta):\n",
    "    \n",
    "    ras = theta[:30]\n",
    "    decs = theta[30:]\n",
    "\n",
    "    field_list = [Field(ra,dec,3.0) for ra,dec in zip(ras,decs)]\n",
    "\n",
    "    score = score_survey(OB_list,field_list,0.1)\n",
    "\n",
    "    return np.log(score)"
   ]
  },
  {
   "cell_type": "code",
   "execution_count": 19,
   "metadata": {},
   "outputs": [
    {
     "name": "stdout",
     "output_type": "stream",
     "text": [
      "6.67152648812\n"
     ]
    }
   ],
   "source": [
    "ndim, nwalkers = 80, 800\n",
    "\n",
    "p0 = []\n",
    "\n",
    "for field in initial_list:\n",
    "    p0.append(field.ra)\n",
    "for field in initial_list:\n",
    "    p0.append(field.dec)\n",
    "    \n",
    "p0 = np.array(p0)\n",
    "\n",
    "print(lnprob(p0))"
   ]
  },
  {
   "cell_type": "code",
   "execution_count": null,
   "metadata": {},
   "outputs": [],
   "source": [
    "start_string = '# Region file format: DS9 version 4.1 \\nglobal color=green dashlist=8 3 width=1 font=\"helvetica 10 normal roman\" select=1 highlite=1 dash=0 fixed=0 edit=1 move=1 delete=1 include=1 source=1 \\nicrs'\n",
    "\n",
    "for field in the_survey[0]:\n",
    "    \n",
    "    reg_str = field.to_region_string()\n",
    "    \n",
    "    start_string += ' \\n'\n",
    "    \n",
    "    start_string += reg_str\n",
    "\n",
    "with open('field_reg.reg','w') as f:\n",
    "    f.write(start_string)\n",
    "\n",
    "start_string"
   ]
  },
  {
   "cell_type": "code",
   "execution_count": null,
   "metadata": {},
   "outputs": [],
   "source": [
    "the_survey"
   ]
  },
  {
   "cell_type": "code",
   "execution_count": null,
   "metadata": {
    "collapsed": true
   },
   "outputs": [],
   "source": []
  }
 ],
 "metadata": {
  "kernelspec": {
   "display_name": "Python [conda root]",
   "language": "python",
   "name": "conda-root-py"
  },
  "language_info": {
   "codemirror_mode": {
    "name": "ipython",
    "version": 3
   },
   "file_extension": ".py",
   "mimetype": "text/x-python",
   "name": "python",
   "nbconvert_exporter": "python",
   "pygments_lexer": "ipython3",
   "version": "3.5.1"
  }
 },
 "nbformat": 4,
 "nbformat_minor": 2
}
