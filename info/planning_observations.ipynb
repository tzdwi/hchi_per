{
 "cells": [
  {
   "cell_type": "code",
   "execution_count": 1,
   "metadata": {},
   "outputs": [],
   "source": [
    "import numpy as np, matplotlib.pyplot as plt, pysynphot as S\n",
    "from astropy.io import fits\n",
    "import astropy.units as u, astropy.constants as c\n",
    "%matplotlib inline"
   ]
  },
  {
   "cell_type": "code",
   "execution_count": 2,
   "metadata": {},
   "outputs": [],
   "source": [
    "wr_bb = S.BlackBody(5e4).renorm(10,'vegamag',S.ObsBandpass('johnson,v'))\n",
    "O_star = S.Icat('k93models', 3e4, 0, 4.3).renorm(10,'vegamag',S.ObsBandpass('johnson,v'))"
   ]
  },
  {
   "cell_type": "code",
   "execution_count": 3,
   "metadata": {},
   "outputs": [],
   "source": [
    "he_fwhm = (1000.0 * u.km/u.s)\n",
    "he_fwhm_a = (he_fwhm / c.c).to(u.dimensionless_unscaled)*4686*u.angstrom"
   ]
  },
  {
   "cell_type": "code",
   "execution_count": 4,
   "metadata": {},
   "outputs": [],
   "source": [
    "he_ii = S.GaussianSource(center=4686,flux=1e-9,fluxunits='flam',fwhm=he_fwhm_a.value)"
   ]
  },
  {
   "cell_type": "code",
   "execution_count": 5,
   "metadata": {
    "collapsed": true
   },
   "outputs": [],
   "source": [
    "wr_spec = wr_bb + he_ii\n",
    "wr_spec.convert('flam')"
   ]
  },
  {
   "cell_type": "code",
   "execution_count": 6,
   "metadata": {},
   "outputs": [
    {
     "data": {
      "text/plain": [
       "(4000, 8000)"
      ]
     },
     "execution_count": 6,
     "metadata": {},
     "output_type": "execute_result"
    },
    {
     "data": {
      "image/png": "[encoded data removed]",
      "text/plain": [
       "<matplotlib.figure.Figure at 0x115eba320>"
      ]
     },
     "metadata": {},
     "output_type": "display_data"
    }
   ],
   "source": [
    "plt.plot(wr_spec.wave,wr_spec.flux)\n",
    "plt.xlim(4000,8000)"
   ]
  },
  {
   "cell_type": "code",
   "execution_count": 7,
   "metadata": {},
   "outputs": [],
   "source": [
    "on_filt = S.Box(4686,60) * 0.75\n",
    "off_filt = S.Box(4750,100) * 0.75"
   ]
  },
  {
   "cell_type": "code",
   "execution_count": 8,
   "metadata": {},
   "outputs": [
    {
     "name": "stdout",
     "output_type": "stream",
     "text": [
      "((<pysynphot.spectrum.Box object at 0x1162e14e0> * 0.75)) does not have a defined binset in the wavecat table. The waveset of the spectrum will be used instead.\n",
      "((<pysynphot.spectrum.Box object at 0x1162e14a8> * 0.75)) does not have a defined binset in the wavecat table. The waveset of the spectrum will be used instead.\n",
      "((<pysynphot.spectrum.Box object at 0x1162e14e0> * 0.75)) does not have a defined binset in the wavecat table. The waveset of the spectrum will be used instead.\n",
      "((<pysynphot.spectrum.Box object at 0x1162e14a8> * 0.75)) does not have a defined binset in the wavecat table. The waveset of the spectrum will be used instead.\n"
     ]
    }
   ],
   "source": [
    "wr_on = S.Observation(wr_bb,on_filt)\n",
    "wr_off = S.Observation(wr_bb,off_filt)\n",
    "\n",
    "O_on = S.Observation(O_star,on_filt)\n",
    "O_off = S.Observation(O_star,off_filt)"
   ]
  },
  {
   "cell_type": "code",
   "execution_count": 9,
   "metadata": {},
   "outputs": [
    {
     "name": "stdout",
     "output_type": "stream",
     "text": [
      "9.890706029847284 9.89435764028075 9.902247076379787 9.894381853980772\n"
     ]
    }
   ],
   "source": [
    "print(wr_on.effstim('vegamag'), wr_off.effstim('vegamag'), O_on.effstim('vegamag'), O_off.effstim('vegamag'))"
   ]
  },
  {
   "cell_type": "code",
   "execution_count": 10,
   "metadata": {
    "collapsed": true
   },
   "outputs": [],
   "source": [
    "#Well... let's try it with 30 second exposures and see how we do!!"
   ]
  },
  {
   "cell_type": "code",
   "execution_count": null,
   "metadata": {
    "collapsed": true
   },
   "outputs": [],
   "source": []
  }
 ],
 "metadata": {
  "kernelspec": {
   "display_name": "Python [conda root]",
   "language": "python",
   "name": "conda-root-py"
  },
  "language_info": {
   "codemirror_mode": {
    "name": "ipython",
    "version": 3
   },
   "file_extension": ".py",
   "mimetype": "text/x-python",
   "name": "python",
   "nbconvert_exporter": "python",
   "pygments_lexer": "ipython3",
   "version": "3.5.1"
  }
 },
 "nbformat": 4,
 "nbformat_minor": 2
}
